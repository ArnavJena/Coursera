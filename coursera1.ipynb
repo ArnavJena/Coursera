{
 "cells": [
  {
   "cell_type": "code",
   "execution_count": 4,
   "id": "877610ab-f86f-4020-90b2-2e7c6a99ef9f",
   "metadata": {},
   "outputs": [
    {
     "name": "stdout",
     "output_type": "stream",
     "text": [
      "TONY STARK\n",
      "Tony Stark\n",
      "tony stark\n",
      "Tony Stark\n",
      "3\n",
      "-1\n",
      "5\n",
      "-1\n",
      "Ironman\n",
      "Tony Stark\n",
      "True\n",
      "True\n",
      "False\n"
     ]
    }
   ],
   "source": [
    "name = \"Tony Stark\"\n",
    "print(name.upper())\n",
    "print(name)\n",
    "\n",
    "print(name.lower())\n",
    "print(name)\n",
    "\n",
    "print(name.find('y'))\n",
    "print(name.find('Y'))\n",
    "print(name.find(\"Stark\"))\n",
    "print(name.find(\"stark\"))\n",
    "\n",
    "print(name.replace(\"Tony Stark\", \"Ironman\"))\n",
    "print(name)\n",
    "\n",
    "#to check if a character/string is part of the main string\n",
    "print(\"Stark\" in name)\n",
    "print(\"S\" in name)\n",
    "print(\"s\" in name)"
   ]
  },
  {
   "cell_type": "markdown",
   "id": "8bdae6e2-d5d3-422a-b277-7cd6b637309f",
   "metadata": {},
   "source": [
    "above program Johnny LLB \n"
   ]
  },
  {
   "cell_type": "code",
   "execution_count": 2,
   "id": "39b309ae-7ea6-41fe-8bae-5bcf1ed9bca7",
   "metadata": {},
   "outputs": [
    {
     "name": "stdout",
     "output_type": "stream",
     "text": [
      "ola\n"
     ]
    }
   ],
   "source": [
    "print(\"ola\")"
   ]
  },
  {
   "cell_type": "code",
   "execution_count": null,
   "id": "0350bb84-6290-47c6-ab33-4a912b044aa0",
   "metadata": {},
   "outputs": [],
   "source": []
  }
 ],
 "metadata": {
  "kernelspec": {
   "display_name": "Python",
   "language": "python",
   "name": "conda-env-python-py"
  },
  "language_info": {
   "codemirror_mode": {
    "name": "ipython",
    "version": 3
   },
   "file_extension": ".py",
   "mimetype": "text/x-python",
   "name": "python",
   "nbconvert_exporter": "python",
   "pygments_lexer": "ipython3",
   "version": "3.7.12"
  }
 },
 "nbformat": 4,
 "nbformat_minor": 5
}
